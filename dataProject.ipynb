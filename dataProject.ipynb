{
 "cells": [
  {
   "cell_type": "code",
   "execution_count": 10,
   "id": "337c90bc-e8cf-417d-8f2b-6d4afcb273df",
   "metadata": {},
   "outputs": [
    {
     "name": "stdout",
     "output_type": "stream",
     "text": [
      "Job_Title                0\n",
      "Industry                 0\n",
      "Company_Size             0\n",
      "Location                 0\n",
      "AI_Adoption_Level        0\n",
      "Automation_Risk          0\n",
      "Required_Skills          0\n",
      "Salary_USD               0\n",
      "Remote_Friendly          0\n",
      "Job_Growth_Projection    0\n",
      "dtype: int64\n",
      "Job_Title                 object\n",
      "Industry                  object\n",
      "Company_Size              object\n",
      "Location                  object\n",
      "AI_Adoption_Level         object\n",
      "Automation_Risk           object\n",
      "Required_Skills           object\n",
      "Salary_USD               float64\n",
      "Remote_Friendly           object\n",
      "Job_Growth_Projection     object\n",
      "dtype: object\n"
     ]
    }
   ],
   "source": [
    "# import libraries\n",
    "import pandas as pd\n",
    "import numpy as np\n",
    "import matplotlib.pyplot as plt\n",
    "import seaborn as sns\n",
    "import ast\n",
    "from matplotlib.gridspec import GridSpec\n",
    "\n",
    "#Read data file\n",
    "df = pd.read_csv(r'C:\\Users\\Cj Naylor\\Downloads\\archive\\ai_job_market_insights.csv')\n",
    "df.head()\n",
    "\n",
    "#Check data info\n",
    "print(df.isnull().sum())\n",
    "print(df.info)\n",
    "print(df.dtypes)\n"
   ]
  },
  {
   "cell_type": "code",
   "execution_count": 14,
   "id": "1aafaa4c-5759-4e69-8df2-f1b292dfda26",
   "metadata": {},
   "outputs": [
    {
     "name": "stdout",
     "output_type": "stream",
     "text": [
      "Required_Skills                     object\n",
      "Salary_USD                         float64\n",
      "Job_Title_Cybersecurity Analyst       bool\n",
      "Job_Title_Data Scientist              bool\n",
      "Job_Title_HR Manager                  bool\n",
      "Job_Title_Marketing Specialist        bool\n",
      "Job_Title_Operations Manager          bool\n",
      "Job_Title_Product Manager             bool\n",
      "Job_Title_Sales Manager               bool\n",
      "Job_Title_Software Engineer           bool\n",
      "Job_Title_UX Designer                 bool\n",
      "Industry_Energy                       bool\n",
      "Industry_Entertainment                bool\n",
      "Industry_Finance                      bool\n",
      "Industry_Healthcare                   bool\n",
      "Industry_Manufacturing                bool\n",
      "Industry_Retail                       bool\n",
      "Industry_Technology                   bool\n",
      "Industry_Telecommunications           bool\n",
      "Industry_Transportation               bool\n",
      "Company_Size_Medium                   bool\n",
      "Company_Size_Small                    bool\n",
      "Location_Dubai                        bool\n",
      "Location_London                       bool\n",
      "Location_New York                     bool\n",
      "Location_Paris                        bool\n",
      "Location_San Francisco                bool\n",
      "Location_Singapore                    bool\n",
      "Location_Sydney                       bool\n",
      "Location_Tokyo                        bool\n",
      "Location_Toronto                      bool\n",
      "AI_Adoption_Level_Low                 bool\n",
      "AI_Adoption_Level_Medium              bool\n",
      "Automation_Risk_Low                   bool\n",
      "Automation_Risk_Medium                bool\n",
      "Remote_Friendly_Yes                   bool\n",
      "Job_Growth_Projection_Growth          bool\n",
      "Job_Growth_Projection_Stable          bool\n",
      "dtype: object\n"
     ]
    }
   ],
   "source": [
    "# Convert object columns to 'category' dtype\n",
    "categorical_cols = ['Job_Title', 'Industry', 'Company_Size', 'Location', \n",
    "                    'AI_Adoption_Level', 'Automation_Risk', \n",
    "                    'Remote_Friendly', 'Job_Growth_Projection']\n",
    "\n",
    "for col in categorical_cols:\n",
    "    df[col] = df[col].astype('category')\n",
    "\n",
    "#Converted categorical variables into numerical format\n",
    "df = pd.get_dummies(df, columns=categorical_cols, drop_first=True)\n",
    "print(df.dtypes)\n",
    "\n",
    "# for col in categorical_cols:\n",
    "#     print(f\"{col} unique values: {df[col].unique()}\")"
   ]
  },
  {
   "cell_type": "code",
   "execution_count": null,
   "id": "5062a271-ca78-43c7-ae62-af44936830a7",
   "metadata": {},
   "outputs": [],
   "source": []
  }
 ],
 "metadata": {
  "kernelspec": {
   "display_name": "Python 3 (ipykernel)",
   "language": "python",
   "name": "python3"
  },
  "language_info": {
   "codemirror_mode": {
    "name": "ipython",
    "version": 3
   },
   "file_extension": ".py",
   "mimetype": "text/x-python",
   "name": "python",
   "nbconvert_exporter": "python",
   "pygments_lexer": "ipython3",
   "version": "3.12.4"
  }
 },
 "nbformat": 4,
 "nbformat_minor": 5
}
